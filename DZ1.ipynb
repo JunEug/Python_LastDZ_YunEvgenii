{
 "cells": [
  {
   "cell_type": "code",
   "execution_count": 2,
   "id": "1d604341",
   "metadata": {},
   "outputs": [],
   "source": [
    "import pandas as pd"
   ]
  },
  {
   "cell_type": "code",
   "execution_count": 19,
   "id": "effe10aa",
   "metadata": {},
   "outputs": [],
   "source": [
    "df = pd.read_csv('movies_stats.csv')"
   ]
  },
  {
   "cell_type": "code",
   "execution_count": 20,
   "id": "a4bb49a2",
   "metadata": {},
   "outputs": [],
   "source": [
    "years = list(range(1950, 2011))"
   ]
  },
  {
   "cell_type": "code",
   "execution_count": 21,
   "id": "eeea3ca9",
   "metadata": {},
   "outputs": [],
   "source": [
    "def production_year(row):\n",
    "    title = row['title']\n",
    "    for year in years:\n",
    "        if str(year) in title:\n",
    "            return year\n",
    "    return 'Less than 1950'"
   ]
  },
  {
   "cell_type": "code",
   "execution_count": 22,
   "id": "a579782e",
   "metadata": {},
   "outputs": [],
   "source": [
    "df['year'] = df.apply(production_year, axis=1)"
   ]
  },
  {
   "cell_type": "code",
   "execution_count": 23,
   "id": "6f247c68",
   "metadata": {},
   "outputs": [
    {
     "name": "stdout",
     "output_type": "stream",
     "text": [
      "        userId  movieId  rating   timestamp  \\\n",
      "0            1       31     2.5  1260759144   \n",
      "1            1     1029     3.0  1260759179   \n",
      "2            1     1061     3.0  1260759182   \n",
      "3            1     1129     2.0  1260759185   \n",
      "4            1     1172     4.0  1260759205   \n",
      "...        ...      ...     ...         ...   \n",
      "99999      671     6268     2.5  1065579370   \n",
      "100000     671     6269     4.0  1065149201   \n",
      "100001     671     6365     4.0  1070940363   \n",
      "100002     671     6385     2.5  1070979663   \n",
      "100003     671     6565     3.5  1074784724   \n",
      "\n",
      "                                                 title  \\\n",
      "0                               Dangerous Minds (1995)   \n",
      "1                                         Dumbo (1941)   \n",
      "2                                      Sleepers (1996)   \n",
      "3                          Escape from New York (1981)   \n",
      "4       Cinema Paradiso (Nuovo cinema Paradiso) (1989)   \n",
      "...                                                ...   \n",
      "99999                     Raising Victor Vargas (2002)   \n",
      "100000                                   Stevie (2002)   \n",
      "100001                     Matrix Reloaded, The (2003)   \n",
      "100002                              Whale Rider (2002)   \n",
      "100003                               Seabiscuit (2003)   \n",
      "\n",
      "                                       genres            year  \n",
      "0                                       Drama            1995  \n",
      "1            Animation|Children|Drama|Musical  Less than 1950  \n",
      "2                                    Thriller            1996  \n",
      "3            Action|Adventure|Sci-Fi|Thriller            1981  \n",
      "4                                       Drama            1989  \n",
      "...                                       ...             ...  \n",
      "99999                    Comedy|Drama|Romance            2002  \n",
      "100000                            Documentary            2002  \n",
      "100001  Action|Adventure|Sci-Fi|Thriller|IMAX            2003  \n",
      "100002                                  Drama            2002  \n",
      "100003                                  Drama            2003  \n",
      "\n",
      "[100004 rows x 7 columns]\n"
     ]
    }
   ],
   "source": [
    "print(df)"
   ]
  },
  {
   "cell_type": "code",
   "execution_count": 24,
   "id": "2505ece4",
   "metadata": {},
   "outputs": [],
   "source": [
    "average_ratings = df.groupby('year')['rating'].mean()"
   ]
  },
  {
   "cell_type": "code",
   "execution_count": 25,
   "id": "328fcbd8",
   "metadata": {},
   "outputs": [],
   "source": [
    "average_ratings = average_ratings.sort_values(ascending=False)"
   ]
  },
  {
   "cell_type": "code",
   "execution_count": 26,
   "id": "59a083a6",
   "metadata": {},
   "outputs": [
    {
     "name": "stdout",
     "output_type": "stream",
     "text": [
      "year\n",
      "1957    4.014241\n",
      "1972    4.011136\n",
      "1952    4.000000\n",
      "1954    3.994220\n",
      "1951    3.983539\n",
      "          ...   \n",
      "2005    3.448434\n",
      "2003    3.444777\n",
      "1996    3.426600\n",
      "1997    3.415764\n",
      "2000    3.356104\n",
      "Name: rating, Length: 62, dtype: float64\n"
     ]
    }
   ],
   "source": [
    "print(average_ratings)"
   ]
  },
  {
   "cell_type": "code",
   "execution_count": null,
   "id": "31f68704",
   "metadata": {},
   "outputs": [],
   "source": []
  }
 ],
 "metadata": {
  "kernelspec": {
   "display_name": "Python 3 (ipykernel)",
   "language": "python",
   "name": "python3"
  },
  "language_info": {
   "codemirror_mode": {
    "name": "ipython",
    "version": 3
   },
   "file_extension": ".py",
   "mimetype": "text/x-python",
   "name": "python",
   "nbconvert_exporter": "python",
   "pygments_lexer": "ipython3",
   "version": "3.11.5"
  }
 },
 "nbformat": 4,
 "nbformat_minor": 5
}
